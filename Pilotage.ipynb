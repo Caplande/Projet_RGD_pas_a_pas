{
 "cells": [
  {
   "cell_type": "markdown",
   "id": "48a10ff9",
   "metadata": {},
   "source": [
    "# Listage des étapes  \n",
    "### 1) INITIALISATION DES DONNEES DE L'APPLICATION:  \n",
    "Il s'agit là d'une exécution \"one shot\" permettant de revenir aux condititons initiales des données (exercice 2024)  \n",
    "  \n",
    "1.1) Importation dans la base de données bdd de toutes les feuilles du classeur lexique.xlsx, source_active.xlsx, RGD_Originel_completee.xlsx.   \n",
    "1.2) Intégration de ces feuilles dans bdd.sqlite \n",
    "Pour créer les différents modèles de table, installer et executer sqlcodgen:  \n",
    "---> sqlacodegen sqlite:///bdd/bdd.sqlite > modeles.py  \n",
    "---> Il faut relancer le bash à chaque modification de structure de table   \n",
    "1.3) Utilisant la table \"t_originel_completee\", initialiser la table \"t_lexique_cles\"  \n",
    "Il est important de définir sans ambiguïté sur quelles colonnes et avec quel format de colonne, la cle est calculée  \n",
    "Base de calcul de la cle: type_appel + libelle1 + debut_periode + fin_periode + bat + rub + typ + date + libelle + reference + montant_a_repartir + nom_fournisseur  \n",
    "1.3.1) Mettre au format: bat, rub, typ, date  \n",
    "1.3.2)"
   ]
  }
 ],
 "metadata": {
  "language_info": {
   "name": "python"
  }
 },
 "nbformat": 4,
 "nbformat_minor": 5
}
